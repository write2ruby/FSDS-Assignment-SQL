{
 "cells": [
  {
   "cell_type": "code",
   "execution_count": 9,
   "metadata": {},
   "outputs": [
    {
     "name": "stdout",
     "output_type": "stream",
     "text": [
      "[]\n"
     ]
    }
   ],
   "source": [
    "import mysql.connector as connection\n",
    "import pandas as pd\n",
    "\n",
    "try:\n",
    "    mydb = connection.connect(host=\"localhost\", user=\"root\", passwd=\"mysql\", use_pure=True)\n",
    "    mycursor = mydb.cursor()\n",
    "    query = \"USE FSDS_assignment\"\n",
    "    mycursor.execute(query)\n",
    "    print(mycursor.fetchall())\n",
    "    \n",
    "except Exception as e:\n",
    "    mydb.close()\n",
    "    print(str(e))\n",
    "    "
   ]
  },
  {
   "cell_type": "markdown",
   "metadata": {},
   "source": [
    "#### 1 - Write an SQL query to fetch “FIRST_NAME” from Worker table using the alias name as WORKER_NAME."
   ]
  },
  {
   "cell_type": "code",
   "execution_count": 20,
   "metadata": {},
   "outputs": [
    {
     "name": "stdout",
     "output_type": "stream",
     "text": [
      "           0\n",
      "0      Krish\n",
      "1  Sudhanshu\n",
      "2     Sanket\n",
      "3     Darius\n",
      "4    Sathish\n",
      "5  Shaktiman\n"
     ]
    }
   ],
   "source": [
    "query = \"SELECT FIRST_NAME AS WORKER_NAME FROM WORKER\"\n",
    "mycursor.execute(query)\n",
    "rslt = mycursor.fetchall()\n",
    "df = pd.DataFrame(rslt)\n",
    "print(df)"
   ]
  },
  {
   "cell_type": "markdown",
   "metadata": {},
   "source": [
    "#### 2 - Write an SQL query to fetch unique values of DEPARTMENT from Worker table."
   ]
  },
  {
   "cell_type": "code",
   "execution_count": 16,
   "metadata": {},
   "outputs": [
    {
     "name": "stdout",
     "output_type": "stream",
     "text": [
      "             0\n",
      "0  Development\n",
      "1           HR\n",
      "2   Accountant\n"
     ]
    }
   ],
   "source": [
    "query = \"SELECT DISTINCT DEPARTMENT_NAME FROM WORKER\"\n",
    "mycursor.execute(query)\n",
    "rslt = mycursor.fetchall()\n",
    "df = pd.DataFrame(rslt)\n",
    "print(df)"
   ]
  },
  {
   "cell_type": "markdown",
   "metadata": {},
   "source": [
    "#### Q-3. Write an SQL query to show the last 5 record from a table."
   ]
  },
  {
   "cell_type": "code",
   "execution_count": 23,
   "metadata": {},
   "outputs": [
    {
     "name": "stdout",
     "output_type": "stream",
     "text": [
      "   0          1        2      3                   4            5\n",
      "0  6  Shaktiman     Hero  50000 2017-12-11 09:00:00   Accountant\n",
      "1  5    Sathish  Bhansal  30000 2017-10-21 09:00:00   Accountant\n",
      "2  4     Darius  Bengali  70000 2015-12-13 09:00:00           HR\n",
      "3  3     Sanket    Kumar  70000 2014-12-11 09:00:00           HR\n",
      "4  2  Sudhanshu    Kumar  60000 2014-12-11 09:00:00  Development\n"
     ]
    }
   ],
   "source": [
    "query = \"SELECT * FROM WORKER ORDER BY EMPID DESC LIMIT 5\"\n",
    "mycursor.execute(query)\n",
    "rslt = mycursor.fetchall()\n",
    "df = pd.DataFrame(rslt)\n",
    "print(df)"
   ]
  },
  {
   "cell_type": "code",
   "execution_count": 12,
   "metadata": {},
   "outputs": [],
   "source": []
  },
  {
   "cell_type": "code",
   "execution_count": null,
   "metadata": {},
   "outputs": [],
   "source": []
  }
 ],
 "metadata": {
  "kernelspec": {
   "display_name": "Python 3",
   "language": "python",
   "name": "python3"
  },
  "language_info": {
   "codemirror_mode": {
    "name": "ipython",
    "version": 3
   },
   "file_extension": ".py",
   "mimetype": "text/x-python",
   "name": "python",
   "nbconvert_exporter": "python",
   "pygments_lexer": "ipython3",
   "version": "3.7.6"
  }
 },
 "nbformat": 4,
 "nbformat_minor": 4
}
