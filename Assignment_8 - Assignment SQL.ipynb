{
 "cells": [
  {
   "cell_type": "code",
   "execution_count": 2,
   "metadata": {},
   "outputs": [],
   "source": [
    "import mysql.connector as connection\n",
    "import pandas as pd\n",
    "\n",
    "try:\n",
    "    mydb = connection.connect(host=\"localhost\", user=\"root\", passwd=\"mysql\", use_pure=True, database=\"FSDS_assignment\")\n",
    "    mycursor = mydb.cursor()\n",
    "except Exception as e:\n",
    "    mydb.close()\n",
    "    print(str(e))"
   ]
  },
  {
   "cell_type": "markdown",
   "metadata": {},
   "source": [
    "#### Q-15. Write an SQL query to fetch intersecting records of two tables."
   ]
  },
  {
   "cell_type": "code",
   "execution_count": 3,
   "metadata": {},
   "outputs": [
    {
     "name": "stdout",
     "output_type": "stream",
     "text": [
      "   0          1      2            3          4\n",
      "0  1      Krish   Naik  Development    Manager\n",
      "1  2  Sudhanshu  Kumar  Development  Executive\n",
      "2  3     Sanket  Kumar           HR  Executive\n"
     ]
    }
   ],
   "source": [
    "query = \"SELECT EMPID, FIRST_NAME, LAST_NAME, DEPARTMENT_NAME, DESIGNATION FROM WORKER W, DESIGNATION D WHERE W.EMPID = D.EMP_REF_ID\"\n",
    "mycursor.execute(query)\n",
    "rslt = mycursor.fetchall()\n",
    "df = pd.DataFrame(rslt)\n",
    "print(df)"
   ]
  },
  {
   "cell_type": "markdown",
   "metadata": {},
   "source": [
    "#### Q-16. Write an SQL query to show records from one table that another table does not have."
   ]
  },
  {
   "cell_type": "code",
   "execution_count": 4,
   "metadata": {},
   "outputs": [
    {
     "name": "stdout",
     "output_type": "stream",
     "text": [
      "   0          1        2            3          4\n",
      "0  1      Krish     Naik  Development    Manager\n",
      "1  2  Sudhanshu    Kumar  Development  Executive\n",
      "2  3     Sanket    Kumar           HR  Executive\n",
      "3  4     Darius  Bengali           HR       None\n",
      "4  5    Sathish  Bhansal   Accountant       None\n",
      "5  6  Shaktiman     Hero   Accountant       None\n",
      "6  7     Vishnu    Singh   Accountant       None\n"
     ]
    }
   ],
   "source": [
    "query = \"SELECT EMPID, FIRST_NAME, LAST_NAME, DEPARTMENT_NAME, DESIGNATION FROM WORKER W LEFT OUTER JOIN DESIGNATION D ON W.EMPID = D.EMP_REF_ID\"\n",
    "mycursor.execute(query)\n",
    "rslt = mycursor.fetchall()\n",
    "df = pd.DataFrame(rslt)\n",
    "print(df)"
   ]
  },
  {
   "cell_type": "code",
   "execution_count": null,
   "metadata": {},
   "outputs": [],
   "source": []
  }
 ],
 "metadata": {
  "kernelspec": {
   "display_name": "Python 3",
   "language": "python",
   "name": "python3"
  },
  "language_info": {
   "codemirror_mode": {
    "name": "ipython",
    "version": 3
   },
   "file_extension": ".py",
   "mimetype": "text/x-python",
   "name": "python",
   "nbconvert_exporter": "python",
   "pygments_lexer": "ipython3",
   "version": "3.7.6"
  }
 },
 "nbformat": 4,
 "nbformat_minor": 4
}
