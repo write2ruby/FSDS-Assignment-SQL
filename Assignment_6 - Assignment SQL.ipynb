{
 "cells": [
  {
   "cell_type": "code",
   "execution_count": 10,
   "metadata": {},
   "outputs": [],
   "source": [
    "import mysql.connector as connection\n",
    "import pandas as pd\n",
    "\n",
    "try:\n",
    "    mydb = connection.connect(host=\"localhost\", user=\"root\", passwd=\"mysql\", use_pure=True, database=\"FSDS_assignment\")\n",
    "    mycursor = mydb.cursor()\n",
    "except Exception as e:\n",
    "    mydb.close()\n",
    "    print(str(e))"
   ]
  },
  {
   "cell_type": "markdown",
   "metadata": {},
   "source": [
    "#### Q-1. Write an SQL query to print details of the Workers who have joined in Feb’2014."
   ]
  },
  {
   "cell_type": "code",
   "execution_count": 7,
   "metadata": {},
   "outputs": [
    {
     "name": "stdout",
     "output_type": "stream",
     "text": [
      "   0        1        2      3                   4           5  \\\n",
      "0  5  Sathish  Bhansal  30000 2017-10-21 09:00:00  Accountant   \n",
      "1  7   Vishnu    Singh  30000 2017-10-21 09:00:00  Accountant   \n",
      "\n",
      "                           6  \n",
      "0  Sathish.Bhansal@gmail.com  \n",
      "1     Vishnu.Singh@gmail.com  \n"
     ]
    }
   ],
   "source": [
    "query = \"SELECT * FROM WORKER WHERE YEAR(JOINING_DATE) = 2017 AND MONTH(JOINING_DATE) = 10\"\n",
    "mycursor.execute(query)\n",
    "rslt = mycursor.fetchall()\n",
    "df = pd.DataFrame(rslt)\n",
    "print(df)"
   ]
  },
  {
   "cell_type": "markdown",
   "metadata": {},
   "source": [
    "#### 2 - Write an SQL query to fetch duplicate records having matching data in some fields of a table.\n"
   ]
  },
  {
   "cell_type": "code",
   "execution_count": 8,
   "metadata": {},
   "outputs": [
    {
     "name": "stdout",
     "output_type": "stream",
     "text": [
      "   0        1        2      3                   4           5  \\\n",
      "0  3   Sanket    Kumar  70000 2014-12-11 09:00:00          HR   \n",
      "1  4   Darius  Bengali  70000 2015-12-13 09:00:00          HR   \n",
      "2  5  Sathish  Bhansal  30000 2017-10-21 09:00:00  Accountant   \n",
      "3  7   Vishnu    Singh  30000 2017-10-21 09:00:00  Accountant   \n",
      "\n",
      "                           6  \n",
      "0     Sanket.Kumar@gmail.com  \n",
      "1   Darius.Bengali@gmail.com  \n",
      "2  Sathish.Bhansal@gmail.com  \n",
      "3     Vishnu.Singh@gmail.com  \n"
     ]
    }
   ],
   "source": [
    "query = \"SELECT * FROM WORKER WHERE (SALARY, DEPARTMENT_NAME) IN (SELECT B.SALARY, B.DEPARTMENT_NAME FROM WORKER B GROUP BY B.SALARY, B.DEPARTMENT_NAME HAVING COUNT(*) > 1)\"\n",
    "mycursor.execute(query)\n",
    "rslt = mycursor.fetchall()\n",
    "df = pd.DataFrame(rslt)\n",
    "print(df)"
   ]
  },
  {
   "cell_type": "markdown",
   "metadata": {},
   "source": [
    "#### Q-3. How to remove duplicate rows from Employees table."
   ]
  },
  {
   "cell_type": "raw",
   "metadata": {},
   "source": [
    "SELECT * FROM WORKER\n",
    "  WHERE EMPID NOT IN (\n",
    "    SELECT * FROM (\n",
    "      SELECT MIN(EMPID) FROM WORKER \n",
    "        GROUP BY FIRST_NAME, LAST_NAME, SALARY, DEPARTMENT_NAME, EMAIL\n",
    "    )  AS s_alias\n",
    "  ); "
   ]
  },
  {
   "cell_type": "code",
   "execution_count": 12,
   "metadata": {},
   "outputs": [
    {
     "name": "stdout",
     "output_type": "stream",
     "text": [
      "Empty DataFrame\n",
      "Columns: []\n",
      "Index: []\n"
     ]
    }
   ],
   "source": [
    "query = \"DELETE FROM WORKER WHERE EMPID NOT IN (SELECT * FROM (SELECT MIN(EMPID) FROM WORKER GROUP BY FIRST_NAME, LAST_NAME, SALARY, DEPARTMENT_NAME, EMAIL)  AS s_alias); \"\n",
    "mycursor.execute(query)\n",
    "mydb.commit()\n",
    "rslt = mycursor.fetchall()\n",
    "df = pd.DataFrame(rslt)\n",
    "print(df)"
   ]
  },
  {
   "cell_type": "code",
   "execution_count": null,
   "metadata": {},
   "outputs": [],
   "source": []
  }
 ],
 "metadata": {
  "kernelspec": {
   "display_name": "Python 3",
   "language": "python",
   "name": "python3"
  },
  "language_info": {
   "codemirror_mode": {
    "name": "ipython",
    "version": 3
   },
   "file_extension": ".py",
   "mimetype": "text/x-python",
   "name": "python",
   "nbconvert_exporter": "python",
   "pygments_lexer": "ipython3",
   "version": "3.7.6"
  }
 },
 "nbformat": 4,
 "nbformat_minor": 4
}
