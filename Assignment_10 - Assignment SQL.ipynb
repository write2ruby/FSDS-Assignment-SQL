{
 "cells": [
  {
   "cell_type": "code",
   "execution_count": 1,
   "metadata": {},
   "outputs": [],
   "source": [
    "import mysql.connector as connection\n",
    "import pandas as pd\n",
    "\n",
    "try:\n",
    "    mydb = connection.connect(host=\"localhost\", user=\"root\", passwd=\"mysql\", use_pure=True, database=\"FSDS_assignment\")\n",
    "    mycursor = mydb.cursor()\n",
    "except Exception as e:\n",
    "    mydb.close()\n",
    "    print(str(e))"
   ]
  },
  {
   "cell_type": "markdown",
   "metadata": {},
   "source": [
    "#### Q-19. Write an SQL query to determine the 5th highest salary without using TOP or limit method."
   ]
  },
  {
   "cell_type": "code",
   "execution_count": 4,
   "metadata": {},
   "outputs": [
    {
     "name": "stdout",
     "output_type": "stream",
     "text": [
      "   0          1     2      3                   4           5  \\\n",
      "0  6  Shaktiman  Hero  50000 2017-12-11 09:00:00  Accountant   \n",
      "\n",
      "                          6  \n",
      "0  Shaktiman.Hero@gmail.com  \n"
     ]
    }
   ],
   "source": [
    "query = \"SELECT * FROM WORKER ORDER BY SALARY DESC LIMIT 4,1\"\n",
    "mycursor.execute(query)\n",
    "rslt = mycursor.fetchall()\n",
    "df = pd.DataFrame(rslt)\n",
    "print(df)"
   ]
  },
  {
   "cell_type": "markdown",
   "metadata": {},
   "source": [
    "#### Q-20. Write an SQL query to fetch the list of employees with the same salary."
   ]
  },
  {
   "cell_type": "code",
   "execution_count": 3,
   "metadata": {},
   "outputs": [
    {
     "name": "stdout",
     "output_type": "stream",
     "text": [
      "   0          1        2      3                   4            5  \\\n",
      "0  1      Krish     Naik  50000 2014-12-11 09:00:00  Development   \n",
      "1  3     Sanket    Kumar  70000 2014-12-11 09:00:00           HR   \n",
      "2  4     Darius  Bengali  70000 2015-12-13 09:00:00           HR   \n",
      "3  5    Sathish  Bhansal  30000 2017-10-21 09:00:00   Accountant   \n",
      "4  6  Shaktiman     Hero  50000 2017-12-11 09:00:00   Accountant   \n",
      "5  7     Vishnu    Singh  30000 2017-10-21 09:00:00   Accountant   \n",
      "\n",
      "                           6  \n",
      "0       Krish.Naik@gmail.com  \n",
      "1     Sanket.Kumar@gmail.com  \n",
      "2   Darius.Bengali@gmail.com  \n",
      "3  Sathish.Bhansal@gmail.com  \n",
      "4   Shaktiman.Hero@gmail.com  \n",
      "5     Vishnu.Singh@gmail.com  \n"
     ]
    }
   ],
   "source": [
    "query = \"SELECT * FROM WORKER WHERE SALARY IN (SELECT SALARY FROM WORKER GROUP BY SALARY HAVING COUNT(*)>1)\"\n",
    "mycursor.execute(query)\n",
    "rslt = mycursor.fetchall()\n",
    "df = pd.DataFrame(rslt)\n",
    "print(df)"
   ]
  },
  {
   "cell_type": "code",
   "execution_count": null,
   "metadata": {},
   "outputs": [],
   "source": []
  }
 ],
 "metadata": {
  "kernelspec": {
   "display_name": "Python 3",
   "language": "python",
   "name": "python3"
  },
  "language_info": {
   "codemirror_mode": {
    "name": "ipython",
    "version": 3
   },
   "file_extension": ".py",
   "mimetype": "text/x-python",
   "name": "python",
   "nbconvert_exporter": "python",
   "pygments_lexer": "ipython3",
   "version": "3.7.6"
  }
 },
 "nbformat": 4,
 "nbformat_minor": 4
}
