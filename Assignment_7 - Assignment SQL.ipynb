{
 "cells": [
  {
   "cell_type": "code",
   "execution_count": 3,
   "metadata": {},
   "outputs": [],
   "source": [
    "import mysql.connector as connection\n",
    "import pandas as pd\n",
    "\n",
    "try:\n",
    "    mydb = connection.connect(host=\"localhost\", user=\"root\", passwd=\"mysql\", use_pure=True, database=\"FSDS_assignment\")\n",
    "    mycursor = mydb.cursor()\n",
    "except Exception as e:\n",
    "    mydb.close()\n",
    "    print(str(e))"
   ]
  },
  {
   "cell_type": "markdown",
   "metadata": {},
   "source": [
    "#### Q-13. Write an SQL query to show only odd rows from a table."
   ]
  },
  {
   "cell_type": "code",
   "execution_count": 5,
   "metadata": {},
   "outputs": [
    {
     "name": "stdout",
     "output_type": "stream",
     "text": [
      "   0        1        2      3                   4            5  \\\n",
      "0  1    Krish     Naik  50000 2014-12-11 09:00:00  Development   \n",
      "1  3   Sanket    Kumar  70000 2014-12-11 09:00:00           HR   \n",
      "2  5  Sathish  Bhansal  30000 2017-10-21 09:00:00   Accountant   \n",
      "3  7   Vishnu    Singh  30000 2017-10-21 09:00:00   Accountant   \n",
      "\n",
      "                           6  \n",
      "0       Krish.Naik@gmail.com  \n",
      "1     Sanket.Kumar@gmail.com  \n",
      "2  Sathish.Bhansal@gmail.com  \n",
      "3     Vishnu.Singh@gmail.com  \n"
     ]
    }
   ],
   "source": [
    "query = \"SELECT * FROM WORKER WHERE MOD(EMPID,2)=1\"\n",
    "mycursor.execute(query)\n",
    "rslt = mycursor.fetchall()\n",
    "df = pd.DataFrame(rslt)\n",
    "print(df)"
   ]
  },
  {
   "cell_type": "markdown",
   "metadata": {},
   "source": [
    "#### 14 - Write an SQL query to clone a new table from another table."
   ]
  },
  {
   "cell_type": "code",
   "execution_count": 8,
   "metadata": {},
   "outputs": [],
   "source": [
    "# Cloning without Data\n",
    "\n",
    "query = \"CREATE TABLE WORKER_CLONE1 AS SELECT * FROM WORKER WHERE 1=2\"\n",
    "mycursor.execute(query)"
   ]
  },
  {
   "cell_type": "code",
   "execution_count": 11,
   "metadata": {},
   "outputs": [],
   "source": [
    "# Cloning with Data\n",
    "\n",
    "query = \"CREATE TABLE WORKER_CLONE2 AS SELECT * FROM WORKER WHERE 1=1\"\n",
    "mycursor.execute(query)"
   ]
  },
  {
   "cell_type": "code",
   "execution_count": 12,
   "metadata": {},
   "outputs": [
    {
     "data": {
      "text/plain": [
       "[('empid', b'int', 'NO', '', b'0', ''),\n",
       " ('first_name', b'varchar(25)', 'YES', '', None, ''),\n",
       " ('last_name', b'varchar(25)', 'YES', '', None, ''),\n",
       " ('salary', b'int', 'YES', '', None, ''),\n",
       " ('joining_date', b'datetime', 'YES', '', None, ''),\n",
       " ('department_name', b'varchar(25)', 'YES', '', None, ''),\n",
       " ('email', b'varchar(100)', 'YES', '', None, '')]"
      ]
     },
     "execution_count": 12,
     "metadata": {},
     "output_type": "execute_result"
    }
   ],
   "source": [
    "query = \"desc WORKER_CLONE1\"\n",
    "mycursor.execute(query)\n",
    "mycursor.fetchall()"
   ]
  },
  {
   "cell_type": "code",
   "execution_count": 13,
   "metadata": {},
   "outputs": [
    {
     "name": "stdout",
     "output_type": "stream",
     "text": [
      "   0        1        2      3                   4            5  \\\n",
      "0  1    Krish     Naik  50000 2014-12-11 09:00:00  Development   \n",
      "1  3   Sanket    Kumar  70000 2014-12-11 09:00:00           HR   \n",
      "2  5  Sathish  Bhansal  30000 2017-10-21 09:00:00   Accountant   \n",
      "3  7   Vishnu    Singh  30000 2017-10-21 09:00:00   Accountant   \n",
      "\n",
      "                           6  \n",
      "0       Krish.Naik@gmail.com  \n",
      "1     Sanket.Kumar@gmail.com  \n",
      "2  Sathish.Bhansal@gmail.com  \n",
      "3     Vishnu.Singh@gmail.com  \n"
     ]
    }
   ],
   "source": [
    "query = \"SELECT * FROM WORKER_CLONE2 WHERE MOD(EMPID,2)=1\"\n",
    "mycursor.execute(query)\n",
    "rslt = mycursor.fetchall()\n",
    "df = pd.DataFrame(rslt)\n",
    "print(df)"
   ]
  },
  {
   "cell_type": "code",
   "execution_count": null,
   "metadata": {},
   "outputs": [],
   "source": []
  }
 ],
 "metadata": {
  "kernelspec": {
   "display_name": "Python 3",
   "language": "python",
   "name": "python3"
  },
  "language_info": {
   "codemirror_mode": {
    "name": "ipython",
    "version": 3
   },
   "file_extension": ".py",
   "mimetype": "text/x-python",
   "name": "python",
   "nbconvert_exporter": "python",
   "pygments_lexer": "ipython3",
   "version": "3.7.6"
  }
 },
 "nbformat": 4,
 "nbformat_minor": 4
}
