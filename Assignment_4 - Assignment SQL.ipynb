{
 "cells": [
  {
   "cell_type": "code",
   "execution_count": 3,
   "metadata": {},
   "outputs": [
    {
     "name": "stdout",
     "output_type": "stream",
     "text": [
      "[]\n"
     ]
    }
   ],
   "source": [
    "import mysql.connector as connection\n",
    "import pandas as pd\n",
    "\n",
    "try:\n",
    "    mydb = connection.connect(host=\"localhost\", user=\"root\", passwd=\"mysql\", use_pure=True)\n",
    "    mycursor = mydb.cursor()\n",
    "    query = \"USE FSDS_assignment\"\n",
    "    mycursor.execute(query)\n",
    "    print(mycursor.fetchall())\n",
    "    \n",
    "except Exception as e:\n",
    "    mydb.close()\n",
    "    print(str(e))"
   ]
  },
  {
   "cell_type": "markdown",
   "metadata": {},
   "source": [
    "#### Q-1. Write an SQL query to print the FIRST_NAME from Worker table after replacing ‘a’ with ‘A’."
   ]
  },
  {
   "cell_type": "code",
   "execution_count": 4,
   "metadata": {},
   "outputs": [
    {
     "name": "stdout",
     "output_type": "stream",
     "text": [
      "           0\n",
      "0      Krish\n",
      "1  SudhAnshu\n",
      "2     SAnket\n",
      "3     DArius\n",
      "4    SAthish\n",
      "5  ShAktimAn\n"
     ]
    }
   ],
   "source": [
    "query = \"SELECT replace(first_name, 'a', 'A') FROM WORKER \"\n",
    "mycursor.execute(query)\n",
    "rslt = mycursor.fetchall()\n",
    "df = pd.DataFrame(rslt)\n",
    "print(df)"
   ]
  },
  {
   "cell_type": "markdown",
   "metadata": {},
   "source": [
    "#### 2 - Write an SQL query to print all Worker details from the Worker table order by FIRST_NAME Ascending and DEPARTMENT Descending.\n"
   ]
  },
  {
   "cell_type": "code",
   "execution_count": 7,
   "metadata": {},
   "outputs": [
    {
     "name": "stdout",
     "output_type": "stream",
     "text": [
      "   0          1        2      3                   4            5\n",
      "0  4     Darius  Bengali  70000 2015-12-13 09:00:00           HR\n",
      "1  1      Krish     Naik  50000 2014-12-11 09:00:00  Development\n",
      "2  3     Sanket    Kumar  70000 2014-12-11 09:00:00           HR\n",
      "3  5    Sathish  Bhansal  30000 2017-10-21 09:00:00   Accountant\n",
      "4  6  Shaktiman     Hero  50000 2017-12-11 09:00:00   Accountant\n",
      "5  2  Sudhanshu    Kumar  60000 2014-12-11 09:00:00  Development\n"
     ]
    }
   ],
   "source": [
    "query = \"SELECT * FROM WORKER ORDER BY FIRST_NAME ASC, DEPARTMENT_NAME DESC\"\n",
    "mycursor.execute(query)\n",
    "rslt = mycursor.fetchall()\n",
    "df = pd.DataFrame(rslt)\n",
    "print(df)"
   ]
  },
  {
   "cell_type": "markdown",
   "metadata": {},
   "source": [
    "#### Q-3. Write an SQL query to fetch the names of workers who earn the highest salary."
   ]
  },
  {
   "cell_type": "code",
   "execution_count": 6,
   "metadata": {},
   "outputs": [
    {
     "name": "stdout",
     "output_type": "stream",
     "text": [
      "        0      1\n",
      "0  Sanket  70000\n",
      "1  Darius  70000\n"
     ]
    }
   ],
   "source": [
    "query = \"SELECT FIRST_NAME, SALARY FROM WORKER WHERE SALARY = (SELECT MAX(SALARY) FROM WORKER)\"\n",
    "mycursor.execute(query)\n",
    "rslt = mycursor.fetchall()\n",
    "df = pd.DataFrame(rslt)\n",
    "print(df)"
   ]
  },
  {
   "cell_type": "code",
   "execution_count": null,
   "metadata": {},
   "outputs": [],
   "source": []
  },
  {
   "cell_type": "code",
   "execution_count": null,
   "metadata": {},
   "outputs": [],
   "source": []
  }
 ],
 "metadata": {
  "kernelspec": {
   "display_name": "Python 3",
   "language": "python",
   "name": "python3"
  },
  "language_info": {
   "codemirror_mode": {
    "name": "ipython",
    "version": 3
   },
   "file_extension": ".py",
   "mimetype": "text/x-python",
   "name": "python",
   "nbconvert_exporter": "python",
   "pygments_lexer": "ipython3",
   "version": "3.7.6"
  }
 },
 "nbformat": 4,
 "nbformat_minor": 4
}
