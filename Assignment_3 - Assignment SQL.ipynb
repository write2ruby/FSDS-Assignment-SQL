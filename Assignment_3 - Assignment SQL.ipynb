{
 "cells": [
  {
   "cell_type": "code",
   "execution_count": 3,
   "metadata": {},
   "outputs": [
    {
     "name": "stdout",
     "output_type": "stream",
     "text": [
      "[]\n"
     ]
    }
   ],
   "source": [
    "import mysql.connector as connection\n",
    "import pandas as pd\n",
    "\n",
    "try:\n",
    "    mydb = connection.connect(host=\"localhost\", user=\"root\", passwd=\"mysql\", use_pure=True)\n",
    "    mycursor = mydb.cursor()\n",
    "    query = \"USE FSDS_assignment\"\n",
    "    mycursor.execute(query)\n",
    "    print(mycursor.fetchall())\n",
    "    \n",
    "except Exception as e:\n",
    "    mydb.close()\n",
    "    print(str(e))"
   ]
  },
  {
   "cell_type": "markdown",
   "metadata": {},
   "source": [
    "#### Q-1. Write an SQL query to print the FIRST_NAME from Worker table after removing white spaces from the right side."
   ]
  },
  {
   "cell_type": "code",
   "execution_count": 4,
   "metadata": {},
   "outputs": [
    {
     "name": "stdout",
     "output_type": "stream",
     "text": [
      "           0\n",
      "0      Krish\n",
      "1  Sudhanshu\n",
      "2     Sanket\n",
      "3     Darius\n",
      "4    Sathish\n",
      "5  Shaktiman\n"
     ]
    }
   ],
   "source": [
    "query = \"SELECT RTRIM(FIRST_NAME) FROM WORKER\"\n",
    "mycursor.execute(query)\n",
    "rslt = mycursor.fetchall()\n",
    "df = pd.DataFrame(rslt)\n",
    "print(df)"
   ]
  },
  {
   "cell_type": "markdown",
   "metadata": {},
   "source": [
    "#### 2 - Write an SQL query that fetches the unique values of DEPARTMENT from Worker table and prints its length."
   ]
  },
  {
   "cell_type": "code",
   "execution_count": 5,
   "metadata": {},
   "outputs": [
    {
     "name": "stdout",
     "output_type": "stream",
     "text": [
      "             0   1\n",
      "0  Development  11\n",
      "1           HR   2\n",
      "2   Accountant  10\n"
     ]
    }
   ],
   "source": [
    "query = \"SELECT DISTINCT DEPARTMENT_NAME, LENGTH(DEPARTMENT_NAME) FROM WORKER\"\n",
    "mycursor.execute(query)\n",
    "rslt = mycursor.fetchall()\n",
    "df = pd.DataFrame(rslt)\n",
    "print(df)"
   ]
  },
  {
   "cell_type": "markdown",
   "metadata": {},
   "source": [
    "#### Q-3. Write an SQL query to fetch nth max salaries from a table."
   ]
  },
  {
   "cell_type": "code",
   "execution_count": 8,
   "metadata": {},
   "outputs": [
    {
     "name": "stdout",
     "output_type": "stream",
     "text": [
      "       0        1\n",
      "0  30000  Sathish\n"
     ]
    }
   ],
   "source": [
    "query = \"SELECT B.SALARY, B.FIRST_NAME FROM (SELECT SALARY, FIRST_NAME FROM WORKER ORDER BY SALARY DESC LIMIT 6) B ORDER BY B.SALARY ASC LIMIT 1\"\n",
    "mycursor.execute(query)\n",
    "rslt = mycursor.fetchall()\n",
    "df = pd.DataFrame(rslt)\n",
    "print(df)"
   ]
  },
  {
   "cell_type": "code",
   "execution_count": null,
   "metadata": {},
   "outputs": [],
   "source": []
  }
 ],
 "metadata": {
  "kernelspec": {
   "display_name": "Python 3",
   "language": "python",
   "name": "python3"
  },
  "language_info": {
   "codemirror_mode": {
    "name": "ipython",
    "version": 3
   },
   "file_extension": ".py",
   "mimetype": "text/x-python",
   "name": "python",
   "nbconvert_exporter": "python",
   "pygments_lexer": "ipython3",
   "version": "3.7.6"
  }
 },
 "nbformat": 4,
 "nbformat_minor": 4
}
