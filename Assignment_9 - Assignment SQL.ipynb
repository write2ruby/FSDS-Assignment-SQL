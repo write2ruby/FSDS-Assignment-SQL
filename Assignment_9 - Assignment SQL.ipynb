{
 "cells": [
  {
   "cell_type": "code",
   "execution_count": 1,
   "metadata": {},
   "outputs": [],
   "source": [
    "import mysql.connector as connection\n",
    "import pandas as pd\n",
    "\n",
    "try:\n",
    "    mydb = connection.connect(host=\"localhost\", user=\"root\", passwd=\"mysql\", use_pure=True, database=\"FSDS_assignment\")\n",
    "    mycursor = mydb.cursor()\n",
    "except Exception as e:\n",
    "    mydb.close()\n",
    "    print(str(e))"
   ]
  },
  {
   "cell_type": "markdown",
   "metadata": {},
   "source": [
    "#### 17.  Write an SQL query to show the top n (say 10) records of a table."
   ]
  },
  {
   "cell_type": "code",
   "execution_count": 2,
   "metadata": {},
   "outputs": [
    {
     "name": "stdout",
     "output_type": "stream",
     "text": [
      "   0          1        2      3                   4            5  \\\n",
      "0  1      Krish     Naik  50000 2014-12-11 09:00:00  Development   \n",
      "1  2  Sudhanshu    Kumar  60000 2014-12-11 09:00:00  Development   \n",
      "2  3     Sanket    Kumar  70000 2014-12-11 09:00:00           HR   \n",
      "3  4     Darius  Bengali  70000 2015-12-13 09:00:00           HR   \n",
      "4  5    Sathish  Bhansal  30000 2017-10-21 09:00:00   Accountant   \n",
      "\n",
      "                           6  \n",
      "0       Krish.Naik@gmail.com  \n",
      "1  Sudhanshu.Kumar@gmail.com  \n",
      "2     Sanket.Kumar@gmail.com  \n",
      "3   Darius.Bengali@gmail.com  \n",
      "4  Sathish.Bhansal@gmail.com  \n"
     ]
    }
   ],
   "source": [
    "query = \"SELECT * FROM WORKER LIMIT 5\"\n",
    "mycursor.execute(query)\n",
    "rslt = mycursor.fetchall()\n",
    "df = pd.DataFrame(rslt)\n",
    "print(df)"
   ]
  },
  {
   "cell_type": "markdown",
   "metadata": {},
   "source": [
    "#### Q-18. Write an SQL query to determine the nth (say n=5) highest salary from a table."
   ]
  },
  {
   "cell_type": "code",
   "execution_count": 3,
   "metadata": {},
   "outputs": [
    {
     "name": "stdout",
     "output_type": "stream",
     "text": [
      "   0      1     2      3                   4            5  \\\n",
      "0  1  Krish  Naik  50000 2014-12-11 09:00:00  Development   \n",
      "\n",
      "                      6  \n",
      "0  Krish.Naik@gmail.com  \n"
     ]
    }
   ],
   "source": [
    "query = \"SELECT * FROM (SELECT * FROM WORKER ORDER BY SALARY DESC LIMIT 5) A ORDER BY A.SALARY ASC LIMIT 1\"\n",
    "mycursor.execute(query)\n",
    "rslt = mycursor.fetchall()\n",
    "df = pd.DataFrame(rslt)\n",
    "print(df)"
   ]
  },
  {
   "cell_type": "code",
   "execution_count": null,
   "metadata": {},
   "outputs": [],
   "source": []
  }
 ],
 "metadata": {
  "kernelspec": {
   "display_name": "Python 3",
   "language": "python",
   "name": "python3"
  },
  "language_info": {
   "codemirror_mode": {
    "name": "ipython",
    "version": 3
   },
   "file_extension": ".py",
   "mimetype": "text/x-python",
   "name": "python",
   "nbconvert_exporter": "python",
   "pygments_lexer": "ipython3",
   "version": "3.7.6"
  }
 },
 "nbformat": 4,
 "nbformat_minor": 4
}
